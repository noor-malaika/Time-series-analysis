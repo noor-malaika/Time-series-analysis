{
 "cells": [
  {
   "cell_type": "code",
   "execution_count": 1,
   "metadata": {},
   "outputs": [
    {
     "name": "stderr",
     "output_type": "stream",
     "text": [
      "/tmp/ipykernel_6727/4080338716.py:9: SettingWithCopyWarning: \n",
      "A value is trying to be set on a copy of a slice from a DataFrame\n",
      "\n",
      "See the caveats in the documentation: https://pandas.pydata.org/pandas-docs/stable/user_guide/indexing.html#returning-a-view-versus-a-copy\n",
      "  cols.dropna(inplace = True)\n",
      "/home/malaika/anaconda3/envs/weather/lib/python3.9/site-packages/torchvision/io/image.py:13: UserWarning: Failed to load image Python extension: /home/malaika/anaconda3/envs/weather/lib/python3.9/site-packages/torchvision/image.so: undefined symbol: _ZN2at4_ops19empty_memory_format4callEN3c108ArrayRefIlEENS2_8optionalINS2_10ScalarTypeEEENS5_INS2_6LayoutEEENS5_INS2_6DeviceEEENS5_IbEENS5_INS2_12MemoryFormatEEE\n",
      "  warn(f\"Failed to load image Python extension: {e}\")\n",
      "INFO - (NP.df_utils._infer_frequency) - Major frequency D corresponds to 99.936% of the data.\n",
      "INFO - (NP.df_utils._infer_frequency) - Defined frequency is equal to major frequency - D\n",
      "INFO - (NP.df_utils.return_df_in_original_format) - Returning df with no ID column\n"
     ]
    },
    {
     "name": "stdout",
     "output_type": "stream",
     "text": [
      "          ds     y\n",
      "0 2023-06-18  None\n",
      "1 2023-06-19  None\n",
      "2 2023-06-20  None\n",
      "3 2023-06-21  None\n",
      "4 2023-06-22  None\n",
      "5 2023-06-23  None\n",
      "6 2023-06-24  None\n"
     ]
    },
    {
     "name": "stderr",
     "output_type": "stream",
     "text": [
      "INFO - (NP.df_utils._infer_frequency) - Major frequency D corresponds to 85.714% of the data.\n",
      "INFO - (NP.df_utils._infer_frequency) - Defined frequency is equal to major frequency - D\n",
      "INFO - (NP.df_utils._infer_frequency) - Major frequency D corresponds to 85.714% of the data.\n",
      "INFO - (NP.df_utils._infer_frequency) - Defined frequency is equal to major frequency - D\n"
     ]
    },
    {
     "data": {
      "application/vnd.jupyter.widget-view+json": {
       "model_id": "eeacba75cbfd4c23824f64b8db55b63e",
       "version_major": 2,
       "version_minor": 0
      },
      "text/plain": [
       "Predicting: 0it [00:00, ?it/s]"
      ]
     },
     "metadata": {},
     "output_type": "display_data"
    },
    {
     "name": "stderr",
     "output_type": "stream",
     "text": [
      "INFO - (NP.df_utils.return_df_in_original_format) - Returning df with no ID column\n"
     ]
    },
    {
     "name": "stdout",
     "output_type": "stream",
     "text": [
      "          ds     y      yhat1      trend  season_yearly  season_weekly\n",
      "0 2023-06-18  None  42.470726  32.156883      10.200864       0.112982\n",
      "1 2023-06-19  None  42.535599  32.151978      10.242702       0.140926\n",
      "2 2023-06-20  None  42.454666  32.147072      10.282608       0.024985\n",
      "3 2023-06-21  None  42.637238  32.142162      10.320536       0.174536\n",
      "4 2023-06-22  None  42.396202  32.137257      10.356429      -0.097485\n",
      "5 2023-06-23  None  42.220634  32.132347      10.390226      -0.301941\n",
      "6 2023-06-24  None  42.495300  32.127441      10.421865      -0.054003\n"
     ]
    }
   ],
   "source": [
    "import joblib\n",
    "import pandas as pd\n",
    "\n",
    "\n",
    "fileName = 'neuralProphet_weather.joblib'\n",
    "data = pd.read_csv(\"archive.csv\")\n",
    "data['time'] = pd.to_datetime(data['time'])\n",
    "cols = data[[\"time\", \"apparent_temperature_max (Â°C)\"]]\n",
    "cols.dropna(inplace = True)\n",
    "cols.columns = [\"ds\", \"y\"]\n",
    "\n",
    "\n",
    "loaded_model = joblib.load(fileName)\n",
    "\n",
    "future = loaded_model.make_future_dataframe(cols, periods=7)\n",
    "print(future)\n",
    "loaded_model.restore_trainer()\n",
    "forecast = loaded_model.predict(future)\n",
    "\n",
    "print(forecast)"
   ]
  },
  {
   "cell_type": "code",
   "execution_count": null,
   "metadata": {},
   "outputs": [],
   "source": [
    "# Add this to the last cell for saving model in the same file\n",
    "\n",
    "import joblib\n",
    "\n",
    "def sav_model(model, filePath):\n",
    "    joblib.dump(model, filePath)\n",
    "\n",
    "fileName = 'neuralProphet_weather.pkl'\n",
    "\n",
    "sav_model(model, fileName)"
   ]
  },
  {
   "cell_type": "code",
   "execution_count": null,
   "metadata": {},
   "outputs": [
    {
     "name": "stdout",
     "output_type": "stream",
     "text": [
      "[NbConvertApp] Converting notebook main.ipynb to script\n",
      "[NbConvertApp] Writing 1875 bytes to main.py\n"
     ]
    }
   ],
   "source": [
    "# Used to convert jupyter notebook to python script file!\n",
    "\n",
    "!jupyter nbconvert main.ipynb --to script\n"
   ]
  },
  {
   "cell_type": "code",
   "execution_count": null,
   "metadata": {},
   "outputs": [],
   "source": [
    "model.restore_trainer() # use it after unpickling the trained model"
   ]
  }
 ],
 "metadata": {
  "kernelspec": {
   "display_name": "base",
   "language": "python",
   "name": "python3"
  },
  "language_info": {
   "codemirror_mode": {
    "name": "ipython",
    "version": 3
   },
   "file_extension": ".py",
   "mimetype": "text/x-python",
   "name": "python",
   "nbconvert_exporter": "python",
   "pygments_lexer": "ipython3",
   "version": "3.9.13"
  },
  "orig_nbformat": 4
 },
 "nbformat": 4,
 "nbformat_minor": 2
}
